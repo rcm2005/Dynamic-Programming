{
 "cells": [
  {
   "cell_type": "code",
   "execution_count": 1,
   "metadata": {},
   "outputs": [
    {
     "name": "stdout",
     "output_type": "stream",
     "text": [
      "Collecting numpy\n",
      "  Downloading numpy-1.26.4-cp311-cp311-win_amd64.whl (15.8 MB)\n",
      "                                              0.0/15.8 MB ? eta -:--:--\n",
      "     --                                       1.1/15.8 MB 23.1 MB/s eta 0:00:01\n",
      "     ----                                     1.7/15.8 MB 18.2 MB/s eta 0:00:01\n",
      "     -----                                    2.2/15.8 MB 15.6 MB/s eta 0:00:01\n",
      "     ------                                   2.7/15.8 MB 14.5 MB/s eta 0:00:01\n",
      "     --------                                 3.4/15.8 MB 13.4 MB/s eta 0:00:01\n",
      "     ---------                                3.8/15.8 MB 12.8 MB/s eta 0:00:01\n",
      "     ----------                               4.1/15.8 MB 12.0 MB/s eta 0:00:01\n",
      "     -----------                              4.6/15.8 MB 11.7 MB/s eta 0:00:01\n",
      "     -------------                            5.2/15.8 MB 11.9 MB/s eta 0:00:01\n",
      "     --------------                           5.7/15.8 MB 11.7 MB/s eta 0:00:01\n",
      "     ---------------                          6.0/15.8 MB 11.4 MB/s eta 0:00:01\n",
      "     ----------------                         6.5/15.8 MB 11.1 MB/s eta 0:00:01\n",
      "     -----------------                        6.8/15.8 MB 10.8 MB/s eta 0:00:01\n",
      "     ------------------                       7.1/15.8 MB 10.6 MB/s eta 0:00:01\n",
      "     -------------------                      7.7/15.8 MB 10.7 MB/s eta 0:00:01\n",
      "     --------------------                     8.3/15.8 MB 10.8 MB/s eta 0:00:01\n",
      "     ----------------------                   8.9/15.8 MB 10.9 MB/s eta 0:00:01\n",
      "     ------------------------                 9.5/15.8 MB 11.1 MB/s eta 0:00:01\n",
      "     -------------------------               10.4/15.8 MB 11.5 MB/s eta 0:00:01\n",
      "     ---------------------------             11.3/15.8 MB 11.3 MB/s eta 0:00:01\n",
      "     -----------------------------           12.0/15.8 MB 11.3 MB/s eta 0:00:01\n",
      "     -------------------------------         12.9/15.8 MB 11.9 MB/s eta 0:00:01\n",
      "     ---------------------------------       13.7/15.8 MB 12.1 MB/s eta 0:00:01\n",
      "     -----------------------------------     14.5/15.8 MB 13.1 MB/s eta 0:00:01\n",
      "     -------------------------------------   15.0/15.8 MB 13.1 MB/s eta 0:00:01\n",
      "     --------------------------------------  15.6/15.8 MB 13.1 MB/s eta 0:00:01\n",
      "     --------------------------------------  15.8/15.8 MB 13.4 MB/s eta 0:00:01\n",
      "     --------------------------------------- 15.8/15.8 MB 12.3 MB/s eta 0:00:00\n",
      "Installing collected packages: numpy\n",
      "Note: you may need to restart the kernel to use updated packages.\n"
     ]
    },
    {
     "name": "stderr",
     "output_type": "stream",
     "text": [
      "  WARNING: Failed to write executable - trying to use .deleteme logic\n",
      "ERROR: Could not install packages due to an OSError: [WinError 2] The system cannot find the file specified: 'c:\\\\Python311\\\\Scripts\\\\f2py.exe' -> 'c:\\\\Python311\\\\Scripts\\\\f2py.exe.deleteme'\n",
      "\n",
      "\n",
      "[notice] A new release of pip is available: 23.1.2 -> 24.0\n",
      "[notice] To update, run: python.exe -m pip install --upgrade pip\n"
     ]
    }
   ],
   "source": [
    "%pip install numpy"
   ]
  },
  {
   "cell_type": "code",
   "execution_count": 5,
   "metadata": {},
   "outputs": [
    {
     "name": "stdout",
     "output_type": "stream",
     "text": [
      "<function media at 0x000002393E0EB380>\n"
     ]
    }
   ],
   "source": [
    "lista = [1,2,3,4,5]\n",
    "\n",
    "def media(lista):\n",
    "    soma = sum(lista)/len(lista)\n",
    "    return media\n",
    "\n",
    "variavel = media(lista)\n",
    "\n",
    "print(variavel)\n",
    "\n",
    "\n",
    "\n"
   ]
  },
  {
   "cell_type": "code",
   "execution_count": 8,
   "metadata": {},
   "outputs": [
    {
     "name": "stdout",
     "output_type": "stream",
     "text": [
      "negativos [-7, -6] positivos [10, 20, 30, 40, 50, 8]\n"
     ]
    }
   ],
   "source": [
    "numeros = [10,20,30,40,50, -7, -6, 8]\n",
    "\n",
    "def posi_neg(lista):\n",
    "    negativos =[]\n",
    "    positivos = []\n",
    "\n",
    "    for numero in lista:\n",
    "        if numero < 0:\n",
    "            negativos.append(numero)\n",
    "        else:\n",
    "            positivos.append(numero)\n",
    "\n",
    "    print(f'negativos {negativos} positivos {positivos}')\n",
    "\n",
    "def posineg2(lista):\n",
    "\n",
    "    positivos = [num for num in lista if num > 0]\n",
    "    negativos = [num for num in lista if num < 0]\n",
    "\n",
    "    return positivos, negativos\n",
    "\n",
    "\n",
    "posi_neg(numeros)\n",
    "            \n"
   ]
  },
  {
   "cell_type": "code",
   "execution_count": null,
   "metadata": {},
   "outputs": [],
   "source": []
  }
 ],
 "metadata": {
  "kernelspec": {
   "display_name": "Python 3",
   "language": "python",
   "name": "python3"
  },
  "language_info": {
   "codemirror_mode": {
    "name": "ipython",
    "version": 3
   },
   "file_extension": ".py",
   "mimetype": "text/x-python",
   "name": "python",
   "nbconvert_exporter": "python",
   "pygments_lexer": "ipython3",
   "version": "3.11.4"
  },
  "orig_nbformat": 4
 },
 "nbformat": 4,
 "nbformat_minor": 2
}
