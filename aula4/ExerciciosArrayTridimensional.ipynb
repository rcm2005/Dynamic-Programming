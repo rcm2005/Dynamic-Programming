{
 "cells": [
  {
   "cell_type": "code",
   "execution_count": 40,
   "metadata": {},
   "outputs": [],
   "source": [
    "import numpy as np\n",
    "import pandas as pd"
   ]
  },
  {
   "cell_type": "code",
   "execution_count": 41,
   "metadata": {},
   "outputs": [],
   "source": [
    "dados_selec = pd.read_csv(\"manutencao_preditiva.csv\")"
   ]
  },
  {
   "cell_type": "code",
   "execution_count": 42,
   "metadata": {},
   "outputs": [
    {
     "name": "stdout",
     "output_type": "stream",
     "text": [
      "Shape do array tridmensional:  [[ 298.1  298.2  298.1 ...  299.   299.   299. ]\n",
      " [1551.  1408.  1498.  ... 1645.  1408.  1500. ]\n",
      " [  42.8   46.3   49.4 ...   33.4   48.5   40.2]]\n"
     ]
    }
   ],
   "source": [
    "temperatura_ar = np.array(dados_selec[\"Temperatura Ar [K]\"])\n",
    "velocidade_rotacao = np.array(dados_selec[\"Velocidade Rotacao [rpm]\"])\n",
    "torque = np.array(dados_selec[\"Torque [Nm]\"])\n",
    "\n",
    "array_tridimensional = np.array([temperatura_ar, velocidade_rotacao, torque])\n",
    "print(\"Shape do array tridmensional: \", array_tridimensional)\n"
   ]
  },
  {
   "cell_type": "markdown",
   "metadata": {},
   "source": [
    "### Exercicios Array Bidimensional"
   ]
  },
  {
   "cell_type": "code",
   "execution_count": 43,
   "metadata": {},
   "outputs": [],
   "source": [
    "temperatura_processo = dados_selec[\"Temperatura Processo [K]\"]\n",
    "temperatura_ar = np.array(dados_selec[\"Temperatura Ar [K]\"])\n",
    "velocidade_rotacao = np.array(dados_selec[\"Velocidade Rotacao [rpm]\"])\n",
    "torque = np.array(dados_selec[\"Torque [Nm]\"])"
   ]
  },
  {
   "cell_type": "markdown",
   "metadata": {},
   "source": [
    "1. Selecione dois pequenos dataframes: o primeiro contendo as variáveis \n",
    "temperatura do ar e torque, o segundo contendo as variáveis temperatura \n",
    "do processo e velocidade de rotação."
   ]
  },
  {
   "cell_type": "code",
   "execution_count": 44,
   "metadata": {},
   "outputs": [],
   "source": [
    "\n",
    "\n",
    "df1 = dados_selec[[\"Temperatura Ar [K]\", \"Torque [Nm]\"]]\n",
    "df2 = dados_selec[[\"Temperatura Processo [K]\", \"Velocidade Rotacao [rpm]\"]]\n"
   ]
  },
  {
   "cell_type": "code",
   "execution_count": 45,
   "metadata": {},
   "outputs": [
    {
     "data": {
      "text/html": [
       "<div>\n",
       "<style scoped>\n",
       "    .dataframe tbody tr th:only-of-type {\n",
       "        vertical-align: middle;\n",
       "    }\n",
       "\n",
       "    .dataframe tbody tr th {\n",
       "        vertical-align: top;\n",
       "    }\n",
       "\n",
       "    .dataframe thead th {\n",
       "        text-align: right;\n",
       "    }\n",
       "</style>\n",
       "<table border=\"1\" class=\"dataframe\">\n",
       "  <thead>\n",
       "    <tr style=\"text-align: right;\">\n",
       "      <th></th>\n",
       "      <th>Temperatura Ar [K]</th>\n",
       "      <th>Torque [Nm]</th>\n",
       "    </tr>\n",
       "  </thead>\n",
       "  <tbody>\n",
       "    <tr>\n",
       "      <th>0</th>\n",
       "      <td>298.1</td>\n",
       "      <td>42.8</td>\n",
       "    </tr>\n",
       "    <tr>\n",
       "      <th>1</th>\n",
       "      <td>298.2</td>\n",
       "      <td>46.3</td>\n",
       "    </tr>\n",
       "    <tr>\n",
       "      <th>2</th>\n",
       "      <td>298.1</td>\n",
       "      <td>49.4</td>\n",
       "    </tr>\n",
       "    <tr>\n",
       "      <th>3</th>\n",
       "      <td>298.2</td>\n",
       "      <td>39.5</td>\n",
       "    </tr>\n",
       "    <tr>\n",
       "      <th>4</th>\n",
       "      <td>298.2</td>\n",
       "      <td>40.0</td>\n",
       "    </tr>\n",
       "    <tr>\n",
       "      <th>...</th>\n",
       "      <td>...</td>\n",
       "      <td>...</td>\n",
       "    </tr>\n",
       "    <tr>\n",
       "      <th>9995</th>\n",
       "      <td>298.8</td>\n",
       "      <td>29.5</td>\n",
       "    </tr>\n",
       "    <tr>\n",
       "      <th>9996</th>\n",
       "      <td>298.9</td>\n",
       "      <td>31.8</td>\n",
       "    </tr>\n",
       "    <tr>\n",
       "      <th>9997</th>\n",
       "      <td>299.0</td>\n",
       "      <td>33.4</td>\n",
       "    </tr>\n",
       "    <tr>\n",
       "      <th>9998</th>\n",
       "      <td>299.0</td>\n",
       "      <td>48.5</td>\n",
       "    </tr>\n",
       "    <tr>\n",
       "      <th>9999</th>\n",
       "      <td>299.0</td>\n",
       "      <td>40.2</td>\n",
       "    </tr>\n",
       "  </tbody>\n",
       "</table>\n",
       "<p>10000 rows × 2 columns</p>\n",
       "</div>"
      ],
      "text/plain": [
       "      Temperatura Ar [K]  Torque [Nm]\n",
       "0                  298.1         42.8\n",
       "1                  298.2         46.3\n",
       "2                  298.1         49.4\n",
       "3                  298.2         39.5\n",
       "4                  298.2         40.0\n",
       "...                  ...          ...\n",
       "9995               298.8         29.5\n",
       "9996               298.9         31.8\n",
       "9997               299.0         33.4\n",
       "9998               299.0         48.5\n",
       "9999               299.0         40.2\n",
       "\n",
       "[10000 rows x 2 columns]"
      ]
     },
     "execution_count": 45,
     "metadata": {},
     "output_type": "execute_result"
    }
   ],
   "source": [
    "df1"
   ]
  },
  {
   "cell_type": "code",
   "execution_count": 46,
   "metadata": {},
   "outputs": [
    {
     "data": {
      "text/html": [
       "<div>\n",
       "<style scoped>\n",
       "    .dataframe tbody tr th:only-of-type {\n",
       "        vertical-align: middle;\n",
       "    }\n",
       "\n",
       "    .dataframe tbody tr th {\n",
       "        vertical-align: top;\n",
       "    }\n",
       "\n",
       "    .dataframe thead th {\n",
       "        text-align: right;\n",
       "    }\n",
       "</style>\n",
       "<table border=\"1\" class=\"dataframe\">\n",
       "  <thead>\n",
       "    <tr style=\"text-align: right;\">\n",
       "      <th></th>\n",
       "      <th>Temperatura Processo [K]</th>\n",
       "      <th>Velocidade Rotacao [rpm]</th>\n",
       "    </tr>\n",
       "  </thead>\n",
       "  <tbody>\n",
       "    <tr>\n",
       "      <th>0</th>\n",
       "      <td>308.6</td>\n",
       "      <td>1551</td>\n",
       "    </tr>\n",
       "    <tr>\n",
       "      <th>1</th>\n",
       "      <td>308.7</td>\n",
       "      <td>1408</td>\n",
       "    </tr>\n",
       "    <tr>\n",
       "      <th>2</th>\n",
       "      <td>308.5</td>\n",
       "      <td>1498</td>\n",
       "    </tr>\n",
       "    <tr>\n",
       "      <th>3</th>\n",
       "      <td>308.6</td>\n",
       "      <td>1433</td>\n",
       "    </tr>\n",
       "    <tr>\n",
       "      <th>4</th>\n",
       "      <td>308.7</td>\n",
       "      <td>1408</td>\n",
       "    </tr>\n",
       "    <tr>\n",
       "      <th>...</th>\n",
       "      <td>...</td>\n",
       "      <td>...</td>\n",
       "    </tr>\n",
       "    <tr>\n",
       "      <th>9995</th>\n",
       "      <td>308.4</td>\n",
       "      <td>1604</td>\n",
       "    </tr>\n",
       "    <tr>\n",
       "      <th>9996</th>\n",
       "      <td>308.4</td>\n",
       "      <td>1632</td>\n",
       "    </tr>\n",
       "    <tr>\n",
       "      <th>9997</th>\n",
       "      <td>308.6</td>\n",
       "      <td>1645</td>\n",
       "    </tr>\n",
       "    <tr>\n",
       "      <th>9998</th>\n",
       "      <td>308.7</td>\n",
       "      <td>1408</td>\n",
       "    </tr>\n",
       "    <tr>\n",
       "      <th>9999</th>\n",
       "      <td>308.7</td>\n",
       "      <td>1500</td>\n",
       "    </tr>\n",
       "  </tbody>\n",
       "</table>\n",
       "<p>10000 rows × 2 columns</p>\n",
       "</div>"
      ],
      "text/plain": [
       "      Temperatura Processo [K]  Velocidade Rotacao [rpm]\n",
       "0                        308.6                      1551\n",
       "1                        308.7                      1408\n",
       "2                        308.5                      1498\n",
       "3                        308.6                      1433\n",
       "4                        308.7                      1408\n",
       "...                        ...                       ...\n",
       "9995                     308.4                      1604\n",
       "9996                     308.4                      1632\n",
       "9997                     308.6                      1645\n",
       "9998                     308.7                      1408\n",
       "9999                     308.7                      1500\n",
       "\n",
       "[10000 rows x 2 columns]"
      ]
     },
     "execution_count": 46,
     "metadata": {},
     "output_type": "execute_result"
    }
   ],
   "source": [
    "df2"
   ]
  },
  {
   "cell_type": "markdown",
   "metadata": {},
   "source": [
    "2. Crie uma estrutura bidimensional para os dois dataframes, o primeiro\n",
    "dataframe deve conter as 10 primeiras linhas, o seguno datafame deve conter\n",
    "as linhas de 15 a 25"
   ]
  },
  {
   "cell_type": "code",
   "execution_count": 47,
   "metadata": {},
   "outputs": [],
   "source": [
    "primeiro = df1.iloc[:10]\n",
    "segundo = df2.iloc[15:25]"
   ]
  },
  {
   "cell_type": "markdown",
   "metadata": {},
   "source": [
    "3. Crie uma estrutura bidimensional para os dois dataframes e mostre a\n",
    "matriz.\n"
   ]
  },
  {
   "cell_type": "code",
   "execution_count": 48,
   "metadata": {},
   "outputs": [
    {
     "name": "stdout",
     "output_type": "stream",
     "text": [
      "[[ 298.1   42.8  309.2 1542. ]\n",
      " [ 298.2   46.3  309.2 1311. ]\n",
      " [ 298.1   49.4  309.2 1410. ]\n",
      " [ 298.2   39.5  309.2 1306. ]\n",
      " [ 298.2   40.   309.3 1632. ]\n",
      " [ 298.1   41.9  309.3 1375. ]\n",
      " [ 298.1   42.4  309.3 1450. ]\n",
      " [ 298.1   40.2  309.3 1581. ]\n",
      " [ 298.3   28.6  309.4 1758. ]\n",
      " [ 298.5   28.   309.4 1561. ]]\n"
     ]
    }
   ],
   "source": [
    "bidimensional = np.c_[primeiro,segundo]\n",
    "print(bidimensional)\n",
    "\n",
    "matriz = bidimensional"
   ]
  },
  {
   "cell_type": "markdown",
   "metadata": {},
   "source": [
    "4. Calcule a soma dos elementos da matriz\n"
   ]
  },
  {
   "cell_type": "code",
   "execution_count": 49,
   "metadata": {},
   "outputs": [
    {
     "name": "stdout",
     "output_type": "stream",
     "text": [
      "A soma dos elementos da matriz é : 21399.800000000003\n"
     ]
    }
   ],
   "source": [
    "print(f'A soma dos elementos da matriz é : {np.sum(matriz)}')"
   ]
  },
  {
   "cell_type": "markdown",
   "metadata": {},
   "source": [
    "5. Encontre o valor mínimo e máximo em cada linha de uma matriz\n"
   ]
  },
  {
   "cell_type": "code",
   "execution_count": 51,
   "metadata": {},
   "outputs": [
    {
     "name": "stdout",
     "output_type": "stream",
     "text": [
      "1542.0\n",
      "1311.0\n",
      "1410.0\n",
      "1306.0\n",
      "1632.0\n",
      "1375.0\n",
      "1450.0\n",
      "1581.0\n",
      "1758.0\n",
      "1561.0\n"
     ]
    }
   ],
   "source": [
    "for linha in matriz:\n",
    "    print(np.max(linha))"
   ]
  },
  {
   "cell_type": "code",
   "execution_count": 58,
   "metadata": {},
   "outputs": [
    {
     "name": "stdout",
     "output_type": "stream",
     "text": [
      "298.19\n",
      "39.910000000000004\n",
      "309.28000000000003\n",
      "1492.6\n"
     ]
    }
   ],
   "source": [
    "# colunaAtual = 0\n",
    "# somacoluna = 0\n",
    "# for linha in matriz:\n",
    "#     for item in linha:\n",
    "#         somacoluna +=item[colunaAtual]\n",
    "#         colunaAtual +=1\n",
    "#     print(somacoluna)\n",
    "\n",
    "#primeiro jeito\n",
    "matrizTransposta = np.transpose(matriz)\n",
    "\n",
    "for linha in matrizTransposta:\n",
    "    print(np.mean(linha))\n",
    "\n",
    "#segundo jeito\n",
    "mean = np.mean(matriz, axis=0)\n",
    "\n"
   ]
  },
  {
   "cell_type": "markdown",
   "metadata": {},
   "source": [
    "7. Transponha a matriz\n"
   ]
  },
  {
   "cell_type": "code",
   "execution_count": null,
   "metadata": {},
   "outputs": [],
   "source": [
    "matrizTransposta = np.transpose(matriz)\n"
   ]
  }
 ],
 "metadata": {
  "kernelspec": {
   "display_name": "Python 3",
   "language": "python",
   "name": "python3"
  },
  "language_info": {
   "codemirror_mode": {
    "name": "ipython",
    "version": 3
   },
   "file_extension": ".py",
   "mimetype": "text/x-python",
   "name": "python",
   "nbconvert_exporter": "python",
   "pygments_lexer": "ipython3",
   "version": "3.12.0"
  }
 },
 "nbformat": 4,
 "nbformat_minor": 2
}
