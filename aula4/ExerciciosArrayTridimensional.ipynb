{
 "cells": [
  {
   "cell_type": "code",
   "execution_count": 1,
   "metadata": {},
   "outputs": [],
   "source": [
    "import numpy as np\n",
    "import pandas as pd"
   ]
  },
  {
   "cell_type": "code",
   "execution_count": 2,
   "metadata": {},
   "outputs": [],
   "source": [
    "dados_selec = pd.read_csv(\"manutencao_preditiva.csv\")"
   ]
  },
  {
   "cell_type": "code",
   "execution_count": 3,
   "metadata": {},
   "outputs": [
    {
     "name": "stdout",
     "output_type": "stream",
     "text": [
      "Shape do array tridmensional:  [[ 298.1  298.2  298.1 ...  299.   299.   299. ]\n",
      " [1551.  1408.  1498.  ... 1645.  1408.  1500. ]\n",
      " [  42.8   46.3   49.4 ...   33.4   48.5   40.2]]\n"
     ]
    }
   ],
   "source": [
    "temperatura_ar = np.array(dados_selec[\"Temperatura Ar [K]\"])\n",
    "velocidade_rotacao = np.array(dados_selec[\"Velocidade Rotacao [rpm]\"])\n",
    "torque = np.array(dados_selec[\"Torque [Nm]\"])\n",
    "\n",
    "array_tridimensional = np.array([temperatura_ar, velocidade_rotacao, torque])\n",
    "print(\"Shape do array tridmensional: \", array_tridimensional)\n"
   ]
  },
  {
   "cell_type": "markdown",
   "metadata": {},
   "source": [
    "### Exercicios Array Bidimensional"
   ]
  },
  {
   "cell_type": "code",
   "execution_count": 4,
   "metadata": {},
   "outputs": [],
   "source": [
    "temperatura_processo = dados_selec[\"Temperatura Processo [K]\"]\n",
    "temperatura_ar = np.array(dados_selec[\"Temperatura Ar [K]\"])\n",
    "velocidade_rotacao = np.array(dados_selec[\"Velocidade Rotacao [rpm]\"])\n",
    "torque = np.array(dados_selec[\"Torque [Nm]\"])"
   ]
  },
  {
   "cell_type": "code",
   "execution_count": 14,
   "metadata": {},
   "outputs": [],
   "source": [
    "df1 = np.array([temperatura_ar, torque])\n",
    "df2 = np.array([temperatura_processo, velocidade_rotacao])\n",
    "\n",
    "# df1 = pd.DataFrame([temperatura_ar, torque])\n",
    "# df2 = pd.DataFrame([temperatura_processo, velocidade_rotacao])\n"
   ]
  },
  {
   "cell_type": "code",
   "execution_count": 23,
   "metadata": {},
   "outputs": [
    {
     "data": {
      "text/plain": [
       "array([[ 308.6,  308.7,  308.5,  308.6,  308.7,  308.6,  308.6,  308.6,\n",
       "         308.7,  309. ,  308.9,  309.1,  309.1,  309.2,  309.2,  309.2,\n",
       "         309.2,  309.2,  309.2,  309.3,  309.3,  309.3,  309.3,  309.4,\n",
       "         309.4],\n",
       "       [1551. , 1408. , 1498. , 1433. , 1408. , 1425. , 1558. , 1527. ,\n",
       "        1667. , 1741. , 1782. , 1423. , 1339. , 1742. , 2035. , 1542. ,\n",
       "        1311. , 1410. , 1306. , 1632. , 1375. , 1450. , 1581. , 1758. ,\n",
       "        1561. ]])"
      ]
     },
     "execution_count": 23,
     "metadata": {},
     "output_type": "execute_result"
    }
   ],
   "source": [
    "primeiro = df1[: ,:10]\n",
    "segundo = df2[:15,:25]\n",
    "\n",
    "bidimensional = np."
   ]
  },
  {
   "cell_type": "code",
   "execution_count": null,
   "metadata": {},
   "outputs": [],
   "source": []
  },
  {
   "cell_type": "code",
   "execution_count": null,
   "metadata": {},
   "outputs": [],
   "source": []
  }
 ],
 "metadata": {
  "kernelspec": {
   "display_name": "Python 3",
   "language": "python",
   "name": "python3"
  },
  "language_info": {
   "codemirror_mode": {
    "name": "ipython",
    "version": 3
   },
   "file_extension": ".py",
   "mimetype": "text/x-python",
   "name": "python",
   "nbconvert_exporter": "python",
   "pygments_lexer": "ipython3",
   "version": "3.12.0"
  }
 },
 "nbformat": 4,
 "nbformat_minor": 2
}
