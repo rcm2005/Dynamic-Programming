{
 "cells": [
  {
   "cell_type": "code",
   "execution_count": 14,
   "metadata": {},
   "outputs": [],
   "source": [
    "import pandas as pd\n"
   ]
  },
  {
   "cell_type": "code",
   "execution_count": 8,
   "metadata": {},
   "outputs": [],
   "source": [
    "base1 = pd.read_csv(\"dados1.csv\")\n",
    "base2 = pd.read_csv(\"dados2.csv\")"
   ]
  },
  {
   "cell_type": "code",
   "execution_count": 9,
   "metadata": {},
   "outputs": [
    {
     "data": {
      "text/html": [
       "<div>\n",
       "<style scoped>\n",
       "    .dataframe tbody tr th:only-of-type {\n",
       "        vertical-align: middle;\n",
       "    }\n",
       "\n",
       "    .dataframe tbody tr th {\n",
       "        vertical-align: top;\n",
       "    }\n",
       "\n",
       "    .dataframe thead th {\n",
       "        text-align: right;\n",
       "    }\n",
       "</style>\n",
       "<table border=\"1\" class=\"dataframe\">\n",
       "  <thead>\n",
       "    <tr style=\"text-align: right;\">\n",
       "      <th></th>\n",
       "      <th>Unnamed: 0</th>\n",
       "      <th>ano</th>\n",
       "      <th>bloco</th>\n",
       "      <th>ndvi</th>\n",
       "      <th>area</th>\n",
       "      <th>cdambiente</th>\n",
       "    </tr>\n",
       "  </thead>\n",
       "  <tbody>\n",
       "    <tr>\n",
       "      <th>0</th>\n",
       "      <td>0</td>\n",
       "      <td>2021</td>\n",
       "      <td>604P0311</td>\n",
       "      <td>0.185666</td>\n",
       "      <td>20.63</td>\n",
       "      <td>A</td>\n",
       "    </tr>\n",
       "    <tr>\n",
       "      <th>1</th>\n",
       "      <td>1</td>\n",
       "      <td>2021</td>\n",
       "      <td>111P1186</td>\n",
       "      <td>0.338386</td>\n",
       "      <td>8.40</td>\n",
       "      <td>B</td>\n",
       "    </tr>\n",
       "    <tr>\n",
       "      <th>2</th>\n",
       "      <td>2</td>\n",
       "      <td>2021</td>\n",
       "      <td>116P1611</td>\n",
       "      <td>0.112711</td>\n",
       "      <td>7.94</td>\n",
       "      <td>B</td>\n",
       "    </tr>\n",
       "    <tr>\n",
       "      <th>3</th>\n",
       "      <td>3</td>\n",
       "      <td>2021</td>\n",
       "      <td>116P1626</td>\n",
       "      <td>0.215624</td>\n",
       "      <td>21.62</td>\n",
       "      <td>D</td>\n",
       "    </tr>\n",
       "    <tr>\n",
       "      <th>4</th>\n",
       "      <td>4</td>\n",
       "      <td>2021</td>\n",
       "      <td>134P1520</td>\n",
       "      <td>0.222302</td>\n",
       "      <td>24.94</td>\n",
       "      <td>C</td>\n",
       "    </tr>\n",
       "    <tr>\n",
       "      <th>...</th>\n",
       "      <td>...</td>\n",
       "      <td>...</td>\n",
       "      <td>...</td>\n",
       "      <td>...</td>\n",
       "      <td>...</td>\n",
       "      <td>...</td>\n",
       "    </tr>\n",
       "    <tr>\n",
       "      <th>20015</th>\n",
       "      <td>20015</td>\n",
       "      <td>2022</td>\n",
       "      <td>605P0301</td>\n",
       "      <td>0.156169</td>\n",
       "      <td>24.30</td>\n",
       "      <td>D</td>\n",
       "    </tr>\n",
       "    <tr>\n",
       "      <th>20016</th>\n",
       "      <td>20016</td>\n",
       "      <td>2022</td>\n",
       "      <td>220P2046</td>\n",
       "      <td>0.136303</td>\n",
       "      <td>30.73</td>\n",
       "      <td>D</td>\n",
       "    </tr>\n",
       "    <tr>\n",
       "      <th>20017</th>\n",
       "      <td>20017</td>\n",
       "      <td>2022</td>\n",
       "      <td>226P2678</td>\n",
       "      <td>0.114775</td>\n",
       "      <td>14.20</td>\n",
       "      <td>C</td>\n",
       "    </tr>\n",
       "    <tr>\n",
       "      <th>20018</th>\n",
       "      <td>20018</td>\n",
       "      <td>2022</td>\n",
       "      <td>225P2864</td>\n",
       "      <td>0.136284</td>\n",
       "      <td>38.42</td>\n",
       "      <td>D</td>\n",
       "    </tr>\n",
       "    <tr>\n",
       "      <th>20019</th>\n",
       "      <td>20019</td>\n",
       "      <td>2022</td>\n",
       "      <td>225P2564</td>\n",
       "      <td>0.091362</td>\n",
       "      <td>9.99</td>\n",
       "      <td>C</td>\n",
       "    </tr>\n",
       "  </tbody>\n",
       "</table>\n",
       "<p>20020 rows × 6 columns</p>\n",
       "</div>"
      ],
      "text/plain": [
       "       Unnamed: 0   ano     bloco      ndvi   area cdambiente\n",
       "0               0  2021  604P0311  0.185666  20.63          A\n",
       "1               1  2021  111P1186  0.338386   8.40          B\n",
       "2               2  2021  116P1611  0.112711   7.94          B\n",
       "3               3  2021  116P1626  0.215624  21.62          D\n",
       "4               4  2021  134P1520  0.222302  24.94          C\n",
       "...           ...   ...       ...       ...    ...        ...\n",
       "20015       20015  2022  605P0301  0.156169  24.30          D\n",
       "20016       20016  2022  220P2046  0.136303  30.73          D\n",
       "20017       20017  2022  226P2678  0.114775  14.20          C\n",
       "20018       20018  2022  225P2864  0.136284  38.42          D\n",
       "20019       20019  2022  225P2564  0.091362   9.99          C\n",
       "\n",
       "[20020 rows x 6 columns]"
      ]
     },
     "execution_count": 9,
     "metadata": {},
     "output_type": "execute_result"
    }
   ],
   "source": [
    "base1\n"
   ]
  },
  {
   "cell_type": "code",
   "execution_count": 10,
   "metadata": {},
   "outputs": [],
   "source": [
    "base_concat = pd.concat([base1,base2],axis=1) #concatenando os dois datasets de forma que eles sejam unidos pelas colunas\n"
   ]
  },
  {
   "cell_type": "code",
   "execution_count": 11,
   "metadata": {},
   "outputs": [
    {
     "data": {
      "text/html": [
       "<div>\n",
       "<style scoped>\n",
       "    .dataframe tbody tr th:only-of-type {\n",
       "        vertical-align: middle;\n",
       "    }\n",
       "\n",
       "    .dataframe tbody tr th {\n",
       "        vertical-align: top;\n",
       "    }\n",
       "\n",
       "    .dataframe thead th {\n",
       "        text-align: right;\n",
       "    }\n",
       "</style>\n",
       "<table border=\"1\" class=\"dataframe\">\n",
       "  <thead>\n",
       "    <tr style=\"text-align: right;\">\n",
       "      <th></th>\n",
       "      <th>Unnamed: 0</th>\n",
       "      <th>ano</th>\n",
       "      <th>bloco</th>\n",
       "      <th>ndvi</th>\n",
       "      <th>area</th>\n",
       "      <th>cdambiente</th>\n",
       "      <th>Unnamed: 0</th>\n",
       "      <th>ano</th>\n",
       "      <th>bloco</th>\n",
       "      <th>talhao</th>\n",
       "      <th>corte</th>\n",
       "      <th>tch_bloco</th>\n",
       "    </tr>\n",
       "  </thead>\n",
       "  <tbody>\n",
       "    <tr>\n",
       "      <th>0</th>\n",
       "      <td>0</td>\n",
       "      <td>2021</td>\n",
       "      <td>604P0311</td>\n",
       "      <td>0.185666</td>\n",
       "      <td>20.63</td>\n",
       "      <td>A</td>\n",
       "      <td>0</td>\n",
       "      <td>2021</td>\n",
       "      <td>604P0311</td>\n",
       "      <td>5</td>\n",
       "      <td>4</td>\n",
       "      <td>70.75</td>\n",
       "    </tr>\n",
       "    <tr>\n",
       "      <th>1</th>\n",
       "      <td>1</td>\n",
       "      <td>2021</td>\n",
       "      <td>111P1186</td>\n",
       "      <td>0.338386</td>\n",
       "      <td>8.40</td>\n",
       "      <td>B</td>\n",
       "      <td>1</td>\n",
       "      <td>2021</td>\n",
       "      <td>111P1186</td>\n",
       "      <td>10</td>\n",
       "      <td>5</td>\n",
       "      <td>26.47</td>\n",
       "    </tr>\n",
       "    <tr>\n",
       "      <th>2</th>\n",
       "      <td>2</td>\n",
       "      <td>2021</td>\n",
       "      <td>116P1611</td>\n",
       "      <td>0.112711</td>\n",
       "      <td>7.94</td>\n",
       "      <td>B</td>\n",
       "      <td>2</td>\n",
       "      <td>2021</td>\n",
       "      <td>116P1611</td>\n",
       "      <td>6</td>\n",
       "      <td>18</td>\n",
       "      <td>95.64</td>\n",
       "    </tr>\n",
       "    <tr>\n",
       "      <th>3</th>\n",
       "      <td>3</td>\n",
       "      <td>2021</td>\n",
       "      <td>116P1626</td>\n",
       "      <td>0.215624</td>\n",
       "      <td>21.62</td>\n",
       "      <td>D</td>\n",
       "      <td>3</td>\n",
       "      <td>2021</td>\n",
       "      <td>116P1626</td>\n",
       "      <td>2</td>\n",
       "      <td>18</td>\n",
       "      <td>110.97</td>\n",
       "    </tr>\n",
       "    <tr>\n",
       "      <th>4</th>\n",
       "      <td>4</td>\n",
       "      <td>2021</td>\n",
       "      <td>134P1520</td>\n",
       "      <td>0.222302</td>\n",
       "      <td>24.94</td>\n",
       "      <td>C</td>\n",
       "      <td>4</td>\n",
       "      <td>2021</td>\n",
       "      <td>134P1520</td>\n",
       "      <td>2</td>\n",
       "      <td>3</td>\n",
       "      <td>59.20</td>\n",
       "    </tr>\n",
       "    <tr>\n",
       "      <th>...</th>\n",
       "      <td>...</td>\n",
       "      <td>...</td>\n",
       "      <td>...</td>\n",
       "      <td>...</td>\n",
       "      <td>...</td>\n",
       "      <td>...</td>\n",
       "      <td>...</td>\n",
       "      <td>...</td>\n",
       "      <td>...</td>\n",
       "      <td>...</td>\n",
       "      <td>...</td>\n",
       "      <td>...</td>\n",
       "    </tr>\n",
       "    <tr>\n",
       "      <th>20015</th>\n",
       "      <td>20015</td>\n",
       "      <td>2022</td>\n",
       "      <td>605P0301</td>\n",
       "      <td>0.156169</td>\n",
       "      <td>24.30</td>\n",
       "      <td>D</td>\n",
       "      <td>20015</td>\n",
       "      <td>2022</td>\n",
       "      <td>605P0301</td>\n",
       "      <td>10</td>\n",
       "      <td>5</td>\n",
       "      <td>56.29</td>\n",
       "    </tr>\n",
       "    <tr>\n",
       "      <th>20016</th>\n",
       "      <td>20016</td>\n",
       "      <td>2022</td>\n",
       "      <td>220P2046</td>\n",
       "      <td>0.136303</td>\n",
       "      <td>30.73</td>\n",
       "      <td>D</td>\n",
       "      <td>20016</td>\n",
       "      <td>2022</td>\n",
       "      <td>220P2046</td>\n",
       "      <td>1</td>\n",
       "      <td>4</td>\n",
       "      <td>63.26</td>\n",
       "    </tr>\n",
       "    <tr>\n",
       "      <th>20017</th>\n",
       "      <td>20017</td>\n",
       "      <td>2022</td>\n",
       "      <td>226P2678</td>\n",
       "      <td>0.114775</td>\n",
       "      <td>14.20</td>\n",
       "      <td>C</td>\n",
       "      <td>20017</td>\n",
       "      <td>2022</td>\n",
       "      <td>226P2678</td>\n",
       "      <td>1</td>\n",
       "      <td>5</td>\n",
       "      <td>38.27</td>\n",
       "    </tr>\n",
       "    <tr>\n",
       "      <th>20018</th>\n",
       "      <td>20018</td>\n",
       "      <td>2022</td>\n",
       "      <td>225P2864</td>\n",
       "      <td>0.136284</td>\n",
       "      <td>38.42</td>\n",
       "      <td>D</td>\n",
       "      <td>20018</td>\n",
       "      <td>2022</td>\n",
       "      <td>225P2864</td>\n",
       "      <td>1</td>\n",
       "      <td>3</td>\n",
       "      <td>48.27</td>\n",
       "    </tr>\n",
       "    <tr>\n",
       "      <th>20019</th>\n",
       "      <td>20019</td>\n",
       "      <td>2022</td>\n",
       "      <td>225P2564</td>\n",
       "      <td>0.091362</td>\n",
       "      <td>9.99</td>\n",
       "      <td>C</td>\n",
       "      <td>20019</td>\n",
       "      <td>2022</td>\n",
       "      <td>225P2564</td>\n",
       "      <td>10</td>\n",
       "      <td>6</td>\n",
       "      <td>24.59</td>\n",
       "    </tr>\n",
       "  </tbody>\n",
       "</table>\n",
       "<p>20020 rows × 12 columns</p>\n",
       "</div>"
      ],
      "text/plain": [
       "       Unnamed: 0   ano     bloco      ndvi   area cdambiente  Unnamed: 0  \\\n",
       "0               0  2021  604P0311  0.185666  20.63          A           0   \n",
       "1               1  2021  111P1186  0.338386   8.40          B           1   \n",
       "2               2  2021  116P1611  0.112711   7.94          B           2   \n",
       "3               3  2021  116P1626  0.215624  21.62          D           3   \n",
       "4               4  2021  134P1520  0.222302  24.94          C           4   \n",
       "...           ...   ...       ...       ...    ...        ...         ...   \n",
       "20015       20015  2022  605P0301  0.156169  24.30          D       20015   \n",
       "20016       20016  2022  220P2046  0.136303  30.73          D       20016   \n",
       "20017       20017  2022  226P2678  0.114775  14.20          C       20017   \n",
       "20018       20018  2022  225P2864  0.136284  38.42          D       20018   \n",
       "20019       20019  2022  225P2564  0.091362   9.99          C       20019   \n",
       "\n",
       "        ano     bloco  talhao  corte  tch_bloco  \n",
       "0      2021  604P0311       5      4      70.75  \n",
       "1      2021  111P1186      10      5      26.47  \n",
       "2      2021  116P1611       6     18      95.64  \n",
       "3      2021  116P1626       2     18     110.97  \n",
       "4      2021  134P1520       2      3      59.20  \n",
       "...     ...       ...     ...    ...        ...  \n",
       "20015  2022  605P0301      10      5      56.29  \n",
       "20016  2022  220P2046       1      4      63.26  \n",
       "20017  2022  226P2678       1      5      38.27  \n",
       "20018  2022  225P2864       1      3      48.27  \n",
       "20019  2022  225P2564      10      6      24.59  \n",
       "\n",
       "[20020 rows x 12 columns]"
      ]
     },
     "execution_count": 11,
     "metadata": {},
     "output_type": "execute_result"
    }
   ],
   "source": [
    "base_concat"
   ]
  },
  {
   "cell_type": "code",
   "execution_count": 26,
   "metadata": {},
   "outputs": [],
   "source": [
    "base_concat = base_concat.loc[:,~base_concat.columns.duplicated()]\n"
   ]
  },
  {
   "cell_type": "code",
   "execution_count": 27,
   "metadata": {},
   "outputs": [
    {
     "data": {
      "text/plain": [
       "Index(['Unnamed: 0', 'ano', 'bloco', 'ndvi', 'area', 'cdambiente', 'talhao',\n",
       "       'corte', 'tch_bloco'],\n",
       "      dtype='object')"
      ]
     },
     "execution_count": 27,
     "metadata": {},
     "output_type": "execute_result"
    }
   ],
   "source": [
    "base_concat.columns"
   ]
  },
  {
   "cell_type": "code",
   "execution_count": 29,
   "metadata": {},
   "outputs": [],
   "source": [
    "media_nvdi_por_bloco = base_concat.groupby(\"bloco\")[\"ndvi\"].mean()"
   ]
  },
  {
   "cell_type": "code",
   "execution_count": 30,
   "metadata": {},
   "outputs": [
    {
     "data": {
      "text/plain": [
       "bloco\n",
       "110F0001    0.119488\n",
       "110F0002    0.155229\n",
       "110F0003    0.111034\n",
       "110F0004    0.293385\n",
       "110F0005    0.289937\n",
       "              ...   \n",
       "606P0322    0.167307\n",
       "606P0329    0.083745\n",
       "606P0330    0.112159\n",
       "606P0332    0.194214\n",
       "606P0335    0.224450\n",
       "Name: ndvi, Length: 3184, dtype: float64"
      ]
     },
     "execution_count": 30,
     "metadata": {},
     "output_type": "execute_result"
    }
   ],
   "source": [
    "media_nvdi_por_bloco"
   ]
  },
  {
   "cell_type": "code",
   "execution_count": 37,
   "metadata": {},
   "outputs": [
    {
     "data": {
      "text/plain": [
       "ano   cdambiente\n",
       "2021  A             0.180934\n",
       "      B             0.182262\n",
       "      C             0.175516\n",
       "      D             0.173381\n",
       "      E             0.186770\n",
       "2022  A             0.133972\n",
       "      B             0.137259\n",
       "      C             0.133319\n",
       "      D             0.127514\n",
       "      E             0.128100\n",
       "Name: ndvi, dtype: float64"
      ]
     },
     "execution_count": 37,
     "metadata": {},
     "output_type": "execute_result"
    }
   ],
   "source": [
    "result = base_concat.groupby(['ano', 'cdambiente'])['ndvi'].mean()\n",
    "result"
   ]
  },
  {
   "cell_type": "code",
   "execution_count": 38,
   "metadata": {},
   "outputs": [
    {
     "data": {
      "text/plain": [
       "cdambiente\n",
       "A    0.180934\n",
       "B    0.182262\n",
       "C    0.175516\n",
       "D    0.173381\n",
       "E    0.186770\n",
       "Name: ndvi, dtype: float64"
      ]
     },
     "execution_count": 38,
     "metadata": {},
     "output_type": "execute_result"
    }
   ],
   "source": [
    "result_2021 = result.loc[2021]\n",
    "result_2021\n"
   ]
  },
  {
   "cell_type": "code",
   "execution_count": 43,
   "metadata": {},
   "outputs": [
    {
     "data": {
      "text/plain": [
       "cdambiente\n",
       "A    15414.35\n",
       "B    40565.41\n",
       "C    74334.15\n",
       "D    32269.49\n",
       "E      802.97\n",
       "Name: area, dtype: float64"
      ]
     },
     "execution_count": 43,
     "metadata": {},
     "output_type": "execute_result"
    }
   ],
   "source": [
    "soma_area_ambiente = base_concat.groupby(['ano','cdambiente'])['area'].sum().loc[2021]\n",
    "soma_area_ambiente\n"
   ]
  },
  {
   "cell_type": "code",
   "execution_count": 50,
   "metadata": {},
   "outputs": [
    {
     "data": {
      "text/plain": [
       "163386.37"
      ]
     },
     "execution_count": 50,
     "metadata": {},
     "output_type": "execute_result"
    }
   ],
   "source": [
    "valor_total_area = base_concat.groupby(['ano'])[\"area\"].sum().loc[2021]\n",
    "valor_total_area"
   ]
  },
  {
   "cell_type": "code",
   "execution_count": 55,
   "metadata": {},
   "outputs": [
    {
     "data": {
      "text/plain": [
       "corte\n",
       "0     0.121849\n",
       "2     0.167913\n",
       "3     0.170080\n",
       "4     0.172878\n",
       "5     0.181167\n",
       "6     0.181808\n",
       "7     0.184246\n",
       "8     0.207476\n",
       "9     0.192264\n",
       "12    0.190410\n",
       "18    0.187169\n",
       "Name: ndvi, dtype: float64"
      ]
     },
     "execution_count": 55,
     "metadata": {},
     "output_type": "execute_result"
    }
   ],
   "source": [
    "media_ndvi_por_corte = base_concat.groupby(['ano','corte'])[\"ndvi\"].mean().loc[2021]\n",
    "media_ndvi_por_corte"
   ]
  },
  {
   "cell_type": "code",
   "execution_count": 58,
   "metadata": {},
   "outputs": [
    {
     "data": {
      "text/plain": [
       "corte\n",
       "0        12.53\n",
       "2     34875.02\n",
       "3     28568.43\n",
       "4     28183.32\n",
       "5     17159.22\n",
       "6     11517.53\n",
       "7      4097.24\n",
       "8      4698.75\n",
       "9      5461.09\n",
       "12       49.93\n",
       "18    28763.31\n",
       "Name: area, dtype: float64"
      ]
     },
     "execution_count": 58,
     "metadata": {},
     "output_type": "execute_result"
    }
   ],
   "source": [
    "area_total_corte = base_concat.groupby(['ano','corte'])['area'].sum().loc[2021]\n",
    "area_total_corte"
   ]
  },
  {
   "cell_type": "code",
   "execution_count": 65,
   "metadata": {},
   "outputs": [
    {
     "data": {
      "text/plain": [
       "corte  cdambiente\n",
       "2      A             0.138321\n",
       "       B             0.154833\n",
       "       C             0.143942\n",
       "       D             0.135260\n",
       "       E             0.123577\n",
       "3      A             0.135565\n",
       "       B             0.134327\n",
       "       C             0.129122\n",
       "       D             0.125962\n",
       "       E             0.121502\n",
       "4      A             0.108512\n",
       "       B             0.126446\n",
       "       C             0.126111\n",
       "       D             0.115660\n",
       "       E             0.131578\n",
       "5      A             0.134729\n",
       "       B             0.120868\n",
       "       C             0.115917\n",
       "       D             0.125510\n",
       "       E             0.114427\n",
       "6      A             0.122524\n",
       "       B             0.109301\n",
       "       C             0.110084\n",
       "       D             0.127052\n",
       "7      A             0.140206\n",
       "       B             0.102670\n",
       "       C             0.121604\n",
       "       D             0.114518\n",
       "8      A             0.108273\n",
       "       B             0.109056\n",
       "       C             0.114092\n",
       "       D             0.111946\n",
       "9      A             0.130917\n",
       "       B             0.131717\n",
       "       C             0.147989\n",
       "       D             0.113150\n",
       "18     A             0.150033\n",
       "       B             0.155342\n",
       "       C             0.154595\n",
       "       D             0.135111\n",
       "       E             0.157097\n",
       "Name: ndvi, dtype: float64"
      ]
     },
     "execution_count": 65,
     "metadata": {},
     "output_type": "execute_result"
    }
   ],
   "source": [
    "media_ndvi_corte_cdambiente_2022 = base_concat.groupby([\"ano\",\"corte\",\"cdambiente\"])[\"ndvi\"].mean().loc[2022]\n",
    "media_ndvi_corte_cdambiente_2022"
   ]
  },
  {
   "cell_type": "code",
   "execution_count": 85,
   "metadata": {},
   "outputs": [
    {
     "data": {
      "text/plain": [
       "'2021: 411.9572281122269'"
      ]
     },
     "metadata": {},
     "output_type": "display_data"
    },
    {
     "data": {
      "text/plain": [
       "'2022: 1053.445013795515'"
      ]
     },
     "metadata": {},
     "output_type": "display_data"
    }
   ],
   "source": [
    "# Sabendo que quanto maior o ndvi, mais cana de açúcar\n",
    "# tem no canavial, qual ambiente produziu mais cana por tipo de ambiente para 2021 e 2022?\n",
    "\n",
    "total_ndvi_ambiente_ano_2022 = base_concat.groupby([\"ano\",\"cdambiente\"])[\"ndvi\"].sum().loc[2021].max()\n",
    "total_ndvi_ambiente_ano_2021 = base_concat.groupby([\"ano\",\"cdambiente\"])[\"ndvi\"].sum().loc[2022].max()\n",
    "\n",
    "display(f\"2021: {total_ndvi_ambiente_ano_2021}\")\n",
    "display(f\"2022: {total_ndvi_ambiente_ano_2022}\")\n"
   ]
  },
  {
   "cell_type": "code",
   "execution_count": 78,
   "metadata": {},
   "outputs": [
    {
     "data": {
      "text/html": [
       "<div>\n",
       "<style scoped>\n",
       "    .dataframe tbody tr th:only-of-type {\n",
       "        vertical-align: middle;\n",
       "    }\n",
       "\n",
       "    .dataframe tbody tr th {\n",
       "        vertical-align: top;\n",
       "    }\n",
       "\n",
       "    .dataframe thead th {\n",
       "        text-align: right;\n",
       "    }\n",
       "</style>\n",
       "<table border=\"1\" class=\"dataframe\">\n",
       "  <thead>\n",
       "    <tr style=\"text-align: right;\">\n",
       "      <th></th>\n",
       "      <th>ano</th>\n",
       "      <th>cdambiente</th>\n",
       "      <th>ndvi</th>\n",
       "    </tr>\n",
       "  </thead>\n",
       "  <tbody>\n",
       "    <tr>\n",
       "      <th>4</th>\n",
       "      <td>2021</td>\n",
       "      <td>E</td>\n",
       "      <td>0.186770</td>\n",
       "    </tr>\n",
       "    <tr>\n",
       "      <th>6</th>\n",
       "      <td>2022</td>\n",
       "      <td>B</td>\n",
       "      <td>0.137259</td>\n",
       "    </tr>\n",
       "  </tbody>\n",
       "</table>\n",
       "</div>"
      ],
      "text/plain": [
       "    ano cdambiente      ndvi\n",
       "4  2021          E  0.186770\n",
       "6  2022          B  0.137259"
      ]
     },
     "execution_count": 78,
     "metadata": {},
     "output_type": "execute_result"
    }
   ],
   "source": [
    "media_ndvi_por_ano_ambiente = base_concat.groupby(['ano', 'cdambiente'])['ndvi'].mean()\n",
    "\n",
    "# Resetar o índice para facilitar a manipulação\n",
    "media_ndvi_por_ano_ambiente_df = media_ndvi_por_ano_ambiente.reset_index()\n",
    "\n",
    "ambiente_max_ndvi = media_ndvi_por_ano_ambiente_df.loc[media_ndvi_por_ano_ambiente_df.groupby('ano')['ndvi'].idxmax()]\n",
    "ambiente_max_ndvi"
   ]
  },
  {
   "cell_type": "code",
   "execution_count": 86,
   "metadata": {},
   "outputs": [
    {
     "name": "stdout",
     "output_type": "stream",
     "text": [
      "Ano: 2021\n",
      "Maior NDVI: 0.4750651227223688, Ambiente: C\n",
      "Ano: 2022\n",
      "Maior NDVI: 0.3668174303945948, Ambiente: C\n"
     ]
    }
   ],
   "source": [
    "max_ndvi_por_ano_ambiente = base_concat.groupby(['ano', 'cdambiente'])['ndvi'].max()\n",
    "\n",
    "max_ndvi_reshaped = max_ndvi_por_ano_ambiente.unstack('cdambiente')\n",
    "max_ndvi_df = pd.DataFrame(max_ndvi_reshaped)\n",
    "for ano, valores in max_ndvi_df.iterrows():\n",
    "    print(f\"Ano: {ano}\")\n",
    "    valor_maximo = valores.max()\n",
    "    ambiente_com_max_ndvi = valores.idxmax()\n",
    "    print(f\"Maior NDVI: {valor_maximo}, Ambiente: {ambiente_com_max_ndvi}\")"
   ]
  },
  {
   "cell_type": "code",
   "execution_count": 92,
   "metadata": {},
   "outputs": [
    {
     "data": {
      "text/plain": [
       "corte\n",
       "0       32.93\n",
       "2      955.54\n",
       "3     6200.60\n",
       "4     1424.64\n",
       "5      445.49\n",
       "6      249.64\n",
       "7      122.85\n",
       "8      267.61\n",
       "9      250.13\n",
       "12      41.84\n",
       "18    1066.74\n",
       "Name: tch_bloco, dtype: float64"
      ]
     },
     "execution_count": 92,
     "metadata": {},
     "output_type": "execute_result"
    }
   ],
   "source": [
    "maiores_indices_tch = base_concat.groupby([\"ano\", \"corte\"])[\"tch_bloco\"].max().loc[2021]\n",
    "maiores_indices_tch\n",
    "\n",
    "#agrupa o tch_bloco por ano e corte e filtra por 2021\n"
   ]
  },
  {
   "cell_type": "code",
   "execution_count": 96,
   "metadata": {},
   "outputs": [
    {
     "data": {
      "text/plain": [
       "20394.58"
      ]
     },
     "execution_count": 96,
     "metadata": {},
     "output_type": "execute_result"
    }
   ],
   "source": [
    "dados_filtrados = base_concat[(base_concat['ano'] == 2021) & (base_concat['talhao'].isin([5, 6]))]\n",
    "\n",
    "soma_area_por_talhao = dados_filtrados.groupby('talhao')['area'].sum()\n",
    "\n",
    "area_total = soma_area_por_talhao.sum()\n",
    "\n",
    "area_total\n"
   ]
  },
  {
   "cell_type": "code",
   "execution_count": 104,
   "metadata": {},
   "outputs": [
    {
     "data": {
      "text/plain": [
       "talhao\n",
       "5    6093\n",
       "6    4773\n",
       "Name: corte, dtype: int64"
      ]
     },
     "execution_count": 104,
     "metadata": {},
     "output_type": "execute_result"
    }
   ],
   "source": [
    "dados_filtrados = base_concat[(base_concat['ano'] == 2021) & (base_concat['talhao'].isin([5, 6]))]\n",
    "\n",
    "cortes_por_talhao = dados_filtrados.groupby(\"talhao\")['corte']\n",
    "cortes_por_talhao = cortes_por_talhao.sum()\n",
    "cortes_por_talhao"
   ]
  },
  {
   "cell_type": "code",
   "execution_count": 107,
   "metadata": {},
   "outputs": [
    {
     "data": {
      "text/plain": [
       "talhao\n",
       "5    0.179017\n",
       "6    0.177442\n",
       "Name: ndvi, dtype: float64"
      ]
     },
     "execution_count": 107,
     "metadata": {},
     "output_type": "execute_result"
    }
   ],
   "source": [
    "dados_filtrados = base_concat[(base_concat['ano'] == 2021) & (base_concat['talhao'].isin([5, 6]))]\n",
    "ndvi_medio = dados_filtrados.groupby(\"talhao\")['ndvi'].mean()\n",
    "ndvi_medio"
   ]
  }
 ],
 "metadata": {
  "kernelspec": {
   "display_name": "Python 3",
   "language": "python",
   "name": "python3"
  },
  "language_info": {
   "codemirror_mode": {
    "name": "ipython",
    "version": 3
   },
   "file_extension": ".py",
   "mimetype": "text/x-python",
   "name": "python",
   "nbconvert_exporter": "python",
   "pygments_lexer": "ipython3",
   "version": "3.12.3"
  }
 },
 "nbformat": 4,
 "nbformat_minor": 2
}
